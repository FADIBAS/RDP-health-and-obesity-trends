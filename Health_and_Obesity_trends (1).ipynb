{
  "nbformat": 4,
  "nbformat_minor": 0,
  "metadata": {
    "colab": {
      "provenance": []
    },
    "kernelspec": {
      "name": "python3",
      "display_name": "Python 3"
    },
    "language_info": {
      "name": "python"
    }
  },
  "cells": [
    {
      "cell_type": "code",
      "source": [
        "import pandas as pd\n",
        "import os\n",
        "import matplotlib.pyplot as plt\n",
        "\n",
        "def clone_repo(repo_url):\n",
        "    repo_name = repo_url.split('/')[-1].replace('.git', '')\n",
        "    if not os.path.exists(repo_name):\n",
        "        print(f\"Cloning repository from {repo_url}...\")\n",
        "        os.system(f\"git clone {repo_url}\")\n",
        "    else:\n",
        "        print(f\"Repository {repo_name} already cloned.\")\n",
        "    return repo_name\n",
        "\n",
        "# Clone the Health and Obesity Trends repository\n",
        "repo_url = \"https://github.com/ine-rmotr-projects/RDP-health-and-obesity-trends.git\"\n",
        "repo_name = clone_repo(repo_url)\n",
        "\n",
        "# Locate the dataset file\n",
        "possible_files = [\"obesity-cleaned.csv\", \"data/obesity-cleaned.csv\"]\n",
        "data_file = None\n",
        "for file in possible_files:\n",
        "    file_path = os.path.join(repo_name, file)\n",
        "    if os.path.exists(file_path):\n",
        "        data_file = file_path\n",
        "        break\n",
        "\n",
        "if not data_file:\n",
        "    raise FileNotFoundError(\"Data file not found in the repository. Please check the repository structure.\")\n",
        "\n",
        "# Load the dataset\n",
        "data = pd.read_csv(data_file)\n",
        "\n",
        "# Preview the data\n",
        "print(\"Preview of the dataset:\")\n",
        "print(data.head())\n",
        "\n",
        "# Display basic information about the dataset\n",
        "print(\"\\nDataset information:\")\n",
        "print(data.info())\n",
        "\n",
        "# Check for missing values\n",
        "missing_values = data.isnull().sum()\n",
        "print(\"\\nMissing values:\")\n",
        "print(missing_values)\n",
        "\n",
        "# Analyze the dataset\n",
        "# 1. Overall obesity trends by year\n",
        "obesity_trends = data.groupby(\"Year\")[[\"ObesityRate\"]].mean()\n",
        "print(\"\\nAverage obesity trends by year:\")\n",
        "print(obesity_trends)\n",
        "\n",
        "# 2. Obesity trends by gender\n",
        "gender_trends = data.groupby([\"Year\", \"Gender\"])[\"ObesityRate\"].mean().unstack()\n",
        "print(\"\\nObesity trends by gender:\")\n",
        "print(gender_trends)\n",
        "\n",
        "# 3. Obesity trends by region\n",
        "region_trends = data.groupby([\"Year\", \"Region\"])[\"ObesityRate\"].mean().unstack()\n",
        "print(\"\\nObesity trends by region:\")\n",
        "print(region_trends)\n",
        "\n",
        "# Visualize the trends\n",
        "# Plot overall obesity trends\n",
        "plt.figure(figsize=(10, 6))\n",
        "plt.plot(obesity_trends, marker='o', label=\"Overall Obesity\")\n",
        "plt.title(\"Obesity Trends Over the Years\")\n",
        "plt.xlabel(\"Year\")\n",
        "plt.ylabel(\"Obesity Rate\")\n",
        "plt.grid()\n",
        "plt.legend()\n",
        "plt.show()\n",
        "\n",
        "# Plot gender trends\n",
        "gender_trends.plot(kind='line', figsize=(10, 6), marker='o')\n",
        "plt.title(\"Obesity Trends by Gender\")\n",
        "plt.xlabel(\"Year\")\n",
        "plt.ylabel(\"Obesity Rate\")\n",
        "plt.grid()\n",
        "plt.legend(title=\"Gender\")\n",
        "plt.show()\n",
        "\n",
        "# Plot region trends\n",
        "region_trends.plot(kind='line', figsize=(12, 8), marker='o')\n",
        "plt.title(\"Obesity Trends by Region\")\n",
        "plt.xlabel(\"Year\")\n",
        "plt.ylabel(\"Obesity Rate\")\n",
        "plt.grid()\n",
        "plt.legend(title=\"Region\")\n",
        "plt.show()\n",
        "\n",
        "# Save processed data to a new file (optional)\n",
        "output_file = os.path.join(repo_name, \"processed_obesity_trends.csv\")\n",
        "data.to_csv(output_file, index=False)\n",
        "print(f\"Processed data saved to {output_file}\")\n",
        "\n"
      ],
      "metadata": {
        "colab": {
          "base_uri": "https://localhost:8080/",
          "height": 228
        },
        "id": "aRRyxat6lYZt",
        "outputId": "984d11aa-9186-4697-bf87-a3d58a491f8c"
      },
      "execution_count": 2,
      "outputs": [
        {
          "output_type": "stream",
          "name": "stdout",
          "text": [
            "Cloning repository from https://github.com/ine-rmotr-projects/RDP-health-and-obesity-trends.git...\n"
          ]
        },
        {
          "output_type": "error",
          "ename": "FileNotFoundError",
          "evalue": "Data file not found: RDP-health-and-obesity-trends/data/obesity-cleaned.csv",
          "traceback": [
            "\u001b[0;31m---------------------------------------------------------------------------\u001b[0m",
            "\u001b[0;31mFileNotFoundError\u001b[0m                         Traceback (most recent call last)",
            "\u001b[0;32m<ipython-input-2-4ecb1ae5b11b>\u001b[0m in \u001b[0;36m<cell line: 20>\u001b[0;34m()\u001b[0m\n\u001b[1;32m     19\u001b[0m \u001b[0mdata_file\u001b[0m \u001b[0;34m=\u001b[0m \u001b[0mos\u001b[0m\u001b[0;34m.\u001b[0m\u001b[0mpath\u001b[0m\u001b[0;34m.\u001b[0m\u001b[0mjoin\u001b[0m\u001b[0;34m(\u001b[0m\u001b[0mrepo_name\u001b[0m\u001b[0;34m,\u001b[0m \u001b[0;34m\"data\"\u001b[0m\u001b[0;34m,\u001b[0m \u001b[0;34m\"obesity-cleaned.csv\"\u001b[0m\u001b[0;34m)\u001b[0m  \u001b[0;31m# Adjust path if necessary\u001b[0m\u001b[0;34m\u001b[0m\u001b[0;34m\u001b[0m\u001b[0m\n\u001b[1;32m     20\u001b[0m \u001b[0;32mif\u001b[0m \u001b[0;32mnot\u001b[0m \u001b[0mos\u001b[0m\u001b[0;34m.\u001b[0m\u001b[0mpath\u001b[0m\u001b[0;34m.\u001b[0m\u001b[0mexists\u001b[0m\u001b[0;34m(\u001b[0m\u001b[0mdata_file\u001b[0m\u001b[0;34m)\u001b[0m\u001b[0;34m:\u001b[0m\u001b[0;34m\u001b[0m\u001b[0;34m\u001b[0m\u001b[0m\n\u001b[0;32m---> 21\u001b[0;31m     \u001b[0;32mraise\u001b[0m \u001b[0mFileNotFoundError\u001b[0m\u001b[0;34m(\u001b[0m\u001b[0;34mf\"Data file not found: {data_file}\"\u001b[0m\u001b[0;34m)\u001b[0m\u001b[0;34m\u001b[0m\u001b[0;34m\u001b[0m\u001b[0m\n\u001b[0m\u001b[1;32m     22\u001b[0m \u001b[0;34m\u001b[0m\u001b[0m\n\u001b[1;32m     23\u001b[0m \u001b[0mdata\u001b[0m \u001b[0;34m=\u001b[0m \u001b[0mpd\u001b[0m\u001b[0;34m.\u001b[0m\u001b[0mread_csv\u001b[0m\u001b[0;34m(\u001b[0m\u001b[0mdata_file\u001b[0m\u001b[0;34m)\u001b[0m\u001b[0;34m\u001b[0m\u001b[0;34m\u001b[0m\u001b[0m\n",
            "\u001b[0;31mFileNotFoundError\u001b[0m: Data file not found: RDP-health-and-obesity-trends/data/obesity-cleaned.csv"
          ]
        }
      ]
    }
  ]
}